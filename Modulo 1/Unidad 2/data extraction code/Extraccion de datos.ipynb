{
 "cells": [
  {
   "cell_type": "markdown",
   "metadata": {},
   "source": [
    "# Extracción de datos\n",
    "## Bases de datos relacionales\n",
    "\n",
    "A continuación vamos a ver una demostración con Python sobre como realizar extracción de de datos, específicamente de bases de datos relacionales, aplicando las técnicas de:\n",
    "- extracción **full**\n",
    "- extracción **incremental**\n",
    "donde sea oportuno.\n",
    "\n",
    "Vamos a trabajar con dos tablas:\n",
    "- `customers` la cual contiene datos sobre clientes de una empresa. ***Supongamos*** que esa tabla no posee muchos registros y no se actualiza con mucha frecuencia. Por ende, conviene aplicar una extracción de tipo **full**.\n",
    "- `payments`, posee registros sobre pagos registrados. Esta tabla posee una gran cantidad de registros, acumula un histórico enorme de pagos y se actualiza diariamente a partir de las nuevas operaciones realizadas. Dado este contexto, es oportuno aplicar una extracción **incremental**.\n",
    "\n",
    "Toda la lógica requerida para aplicar estas técnicas se encuentran en los scripts `utils_db.py` y `utils_state.py`.\n",
    "\n",
    "`utils_state.py` va a intervenir en la extracción incremental. Este tipo de extracción podemos considerarla como **stateful (con estado)** ya que debe mantener un registro de la última extracción realizada. Este registro debe contener algún valor referido a los datos de la última extracción. De esa forma, podrá determinar qué datos han cambiado desde la última extracción y obtener solo esos datos específicos. En este caso, el programa de extracción *recuerda* la última ejecución realizada.\n",
    "\n",
    "Ese estado lo vamos a gestionar por medio de un archivo `.json` que tiene esta estructura\n",
    "```json\n",
    "{\n",
    "    \"table_name\": {\n",
    "        \"incremental_column\": \"column_name\",\n",
    "        \"last_value\": \"last_value\"\n",
    "    }\n",
    "}\n",
    "```\n",
    "El archivo se llama `metadata_ingestion.json` y está en la carpeta `metadata/`.\n",
    "\n",
    "Para este tipo de extracción, la tabla origen debe ofrecer una columna de tipo `date` o `datetime` que permita identificar registros nuevos.\n",
    "\n",
    "`last_value` inicializará con un valor anómalo como 1900-01-01, de modo que la primera ejecución pueda capturar todos los registros. En las siguientes ejecuciones, `last_value` será actualizado con el máximo valor obtenido en la última ejecución.\n",
    "\n",
    "La creación del archivo JSON y su inicialización lo haremos de forma manual. Mientras que la actualización del archivo será gestionada por el script `utils_state.py`."
   ]
  },
  {
   "cell_type": "markdown",
   "metadata": {},
   "source": [
    "*Cabe aclarar que una extracción incremental podría ser tipo stateless (sin estado).\n",
    "En vez de almacenar el último valor registrado de la extracción, podríamos aplicar filtros de forma dinámica basándonos en la fecha de ejecución actual y obtener registros vinculados a esa fecha. Sin embargo, si el programa falla y no se ejecuta durante varios días, habría un esfuerzo adicional para recuperar los datos faltantes. A diferencia de la extracción stateful, que puede continuar desde el último punto de extracción.*\n",
    "*"
   ]
  },
  {
   "cell_type": "markdown",
   "metadata": {},
   "source": [
    "Manos a la obra.\n",
    "Vamos a importar todas las funciones de `utils_db.py`"
   ]
  },
  {
   "cell_type": "code",
   "execution_count": 1,
   "metadata": {},
   "outputs": [],
   "source": [
    "from utils_db import *"
   ]
  },
  {
   "cell_type": "markdown",
   "metadata": {},
   "source": [
    "En primer lugar, vamos a establecer conexión con la base de datos e instanciaremos un objeto `engine` que nos permitirá interactuar con la base de datos.\n",
    "La función `connect_to_db` se encarga de realizar esta tarea. Espera tres parámetros *(ante cualquier duda, ver el anexo)*:\n",
    "- La ruta a un archivo de configuración que contiene los datos de conexión a la base de datos.\n",
    "- La sección del archivo de configuración que contiene los datos de conexión.\n",
    "- El nombre del driver que se utilizará para la conexión."
   ]
  },
  {
   "cell_type": "code",
   "execution_count": 2,
   "metadata": {},
   "outputs": [],
   "source": [
    "engine = connect_to_db(\n",
    "    'pipeline.conf', 'mysql', 'mysql+pymysql'\n",
    "    )"
   ]
  },
  {
   "cell_type": "markdown",
   "metadata": {},
   "source": [
    "Una vez establecida la conexión, procedemos a obtener metadatos de todas las tablas de la base de datos. Esto lo hacemos con la función `get_metadata` que recibe como parámetro el objeto `engine` y genera un archivo JSON con la metadata en la carpeta `metadata/`.\n",
    "\n",
    "Esta metadata contiene datos sobre las columnas de cada tabla, como el nombre, tipo de dato, si es clave primaria, si es clave foránea, si admite nulos, entre otros. Esta metadata es relevante para  de **comprender y documentar la estructura de la fuente de datos a consultar.**"
   ]
  },
  {
   "cell_type": "code",
   "execution_count": 3,
   "metadata": {},
   "outputs": [],
   "source": [
    "get_metadata_db(engine)"
   ]
  },
  {
   "cell_type": "markdown",
   "metadata": {},
   "source": [
    "### Extracción full\n",
    "La función `extract_full_data` será la responsable de esta técnica.\n",
    "\n",
    "Recibe como parámetro el objeto `engine` y el nombre de la tabla a extraer.\n",
    "\n",
    "Se encarga de realizar una consulta SQL a la base de datos, utiliza la metadata vista anteriormente para obtener el nombre de las columnas y utilizarlas durante la ejecución de la consulta.\n",
    "\n",
    "La función retorna un DataFrame con los datos extraídos."
   ]
  },
  {
   "cell_type": "code",
   "execution_count": 11,
   "metadata": {},
   "outputs": [],
   "source": [
    "df_customers = extract_full_data(engine, 'customers')"
   ]
  },
  {
   "cell_type": "code",
   "execution_count": 13,
   "metadata": {},
   "outputs": [
    {
     "data": {
      "text/html": [
       "<div>\n",
       "<style scoped>\n",
       "    .dataframe tbody tr th:only-of-type {\n",
       "        vertical-align: middle;\n",
       "    }\n",
       "\n",
       "    .dataframe tbody tr th {\n",
       "        vertical-align: top;\n",
       "    }\n",
       "\n",
       "    .dataframe thead th {\n",
       "        text-align: right;\n",
       "    }\n",
       "</style>\n",
       "<table border=\"1\" class=\"dataframe\">\n",
       "  <thead>\n",
       "    <tr style=\"text-align: right;\">\n",
       "      <th></th>\n",
       "      <th>customerNumber</th>\n",
       "      <th>customerName</th>\n",
       "      <th>phone</th>\n",
       "      <th>addressLine1</th>\n",
       "      <th>addressLine2</th>\n",
       "      <th>city</th>\n",
       "      <th>province</th>\n",
       "      <th>postalCode</th>\n",
       "      <th>country</th>\n",
       "      <th>createdDate</th>\n",
       "      <th>updatedDate</th>\n",
       "    </tr>\n",
       "  </thead>\n",
       "  <tbody>\n",
       "    <tr>\n",
       "      <th>0</th>\n",
       "      <td>1</td>\n",
       "      <td>Mario Santos</td>\n",
       "      <td>+54 9 11 1234 5678</td>\n",
       "      <td>Calle Falsa 123</td>\n",
       "      <td>None</td>\n",
       "      <td>Buenos Aires</td>\n",
       "      <td>None</td>\n",
       "      <td>None</td>\n",
       "      <td>Argentina</td>\n",
       "      <td>2025-03-15 14:58:59</td>\n",
       "      <td>2025-03-15 14:58:59</td>\n",
       "    </tr>\n",
       "    <tr>\n",
       "      <th>1</th>\n",
       "      <td>2</td>\n",
       "      <td>Emilio Ravenna</td>\n",
       "      <td>+54 9 11 8765 4321</td>\n",
       "      <td>Avenida Simulación 456</td>\n",
       "      <td>None</td>\n",
       "      <td>Córdoba</td>\n",
       "      <td>None</td>\n",
       "      <td>None</td>\n",
       "      <td>Argentina</td>\n",
       "      <td>2025-03-15 14:58:59</td>\n",
       "      <td>2025-03-15 14:58:59</td>\n",
       "    </tr>\n",
       "    <tr>\n",
       "      <th>2</th>\n",
       "      <td>3</td>\n",
       "      <td>Pablo Lamponne</td>\n",
       "      <td>+54 9 11 2468 1357</td>\n",
       "      <td>Carrera Simulada 789</td>\n",
       "      <td>None</td>\n",
       "      <td>Rosario</td>\n",
       "      <td>None</td>\n",
       "      <td>None</td>\n",
       "      <td>Argentina</td>\n",
       "      <td>2025-03-15 14:58:59</td>\n",
       "      <td>2025-03-15 14:58:59</td>\n",
       "    </tr>\n",
       "    <tr>\n",
       "      <th>3</th>\n",
       "      <td>4</td>\n",
       "      <td>Gabriel Medina</td>\n",
       "      <td>+54 9 11 7531 8642</td>\n",
       "      <td>Pasaje Fingido 987</td>\n",
       "      <td>None</td>\n",
       "      <td>Mendoza</td>\n",
       "      <td>None</td>\n",
       "      <td>None</td>\n",
       "      <td>Argentina</td>\n",
       "      <td>2025-03-15 14:58:59</td>\n",
       "      <td>2025-03-15 14:58:59</td>\n",
       "    </tr>\n",
       "    <tr>\n",
       "      <th>4</th>\n",
       "      <td>5</td>\n",
       "      <td>Franco Milazzo</td>\n",
       "      <td>+54 9 11 9999 9999</td>\n",
       "      <td>Calle Actualizada 789</td>\n",
       "      <td>None</td>\n",
       "      <td>Salta</td>\n",
       "      <td>None</td>\n",
       "      <td>None</td>\n",
       "      <td>Argentina</td>\n",
       "      <td>2025-03-15 14:58:59</td>\n",
       "      <td>2025-03-15 18:50:55</td>\n",
       "    </tr>\n",
       "  </tbody>\n",
       "</table>\n",
       "</div>"
      ],
      "text/plain": [
       "   customerNumber    customerName               phone            addressLine1  \\\n",
       "0               1    Mario Santos  +54 9 11 1234 5678         Calle Falsa 123   \n",
       "1               2  Emilio Ravenna  +54 9 11 8765 4321  Avenida Simulación 456   \n",
       "2               3  Pablo Lamponne  +54 9 11 2468 1357    Carrera Simulada 789   \n",
       "3               4  Gabriel Medina  +54 9 11 7531 8642      Pasaje Fingido 987   \n",
       "4               5  Franco Milazzo  +54 9 11 9999 9999   Calle Actualizada 789   \n",
       "\n",
       "  addressLine2          city province postalCode    country  \\\n",
       "0         None  Buenos Aires     None       None  Argentina   \n",
       "1         None       Córdoba     None       None  Argentina   \n",
       "2         None       Rosario     None       None  Argentina   \n",
       "3         None       Mendoza     None       None  Argentina   \n",
       "4         None         Salta     None       None  Argentina   \n",
       "\n",
       "          createdDate         updatedDate  \n",
       "0 2025-03-15 14:58:59 2025-03-15 14:58:59  \n",
       "1 2025-03-15 14:58:59 2025-03-15 14:58:59  \n",
       "2 2025-03-15 14:58:59 2025-03-15 14:58:59  \n",
       "3 2025-03-15 14:58:59 2025-03-15 14:58:59  \n",
       "4 2025-03-15 14:58:59 2025-03-15 18:50:55  "
      ]
     },
     "execution_count": 13,
     "metadata": {},
     "output_type": "execute_result"
    }
   ],
   "source": [
    "# Veamos los primeros registros de los datos\n",
    "df_customers.head()"
   ]
  },
  {
   "cell_type": "code",
   "execution_count": 12,
   "metadata": {},
   "outputs": [
    {
     "name": "stdout",
     "output_type": "stream",
     "text": [
      "La cantidad de registros obtenidos es: 11\n"
     ]
    }
   ],
   "source": [
    "# Consultemos la cantidad de filas obtenidas\n",
    "print(f\"La cantidad de registros obtenidos es: {df_customers.shape[0]}\")"
   ]
  },
  {
   "cell_type": "markdown",
   "metadata": {},
   "source": [
    "Este tipo de extracción escanea la fuente de datos en su totalidad. Si ejecutamos esta función indefinidamente, obtendremos siempre los mismos datos, salvo que la tabla sea modificada."
   ]
  },
  {
   "cell_type": "markdown",
   "metadata": {},
   "source": [
    "### Extracción incremental\n",
    "La función `extract_incremental_data` será la responsable de esta técnica.\n",
    "\n",
    "Recibe como parámetro el objeto `engine`, el nombre de la tabla a extraer y la ruta al archivo JSON que contiene el estado de la última extracción *(recuerda lo que vimos mas arriba sobre **stateful**)*\n",
    "\n",
    "Esta función ejecuta una consulta SQL a la base de datos,\n",
    "- utilizando la metadata para obtener el nombre de las columnas\n",
    "- y el archivo JSON con el estado de la última extración para poder obtener para poder filtrar solo los registros nuevos."
   ]
  },
  {
   "cell_type": "code",
   "execution_count": 17,
   "metadata": {},
   "outputs": [],
   "source": [
    "# Esta primera ejecución obtiene todos los datos\n",
    "# porque en el archivo JSON inicializamos el valor 1900-01-01\n",
    "\n",
    "df_payments = extract_incremental_data(\n",
    "    engine, 'payments', 'metadata/metadata_ingestion.json'\n",
    "    )"
   ]
  },
  {
   "cell_type": "code",
   "execution_count": 18,
   "metadata": {},
   "outputs": [
    {
     "data": {
      "text/html": [
       "<div>\n",
       "<style scoped>\n",
       "    .dataframe tbody tr th:only-of-type {\n",
       "        vertical-align: middle;\n",
       "    }\n",
       "\n",
       "    .dataframe tbody tr th {\n",
       "        vertical-align: top;\n",
       "    }\n",
       "\n",
       "    .dataframe thead th {\n",
       "        text-align: right;\n",
       "    }\n",
       "</style>\n",
       "<table border=\"1\" class=\"dataframe\">\n",
       "  <thead>\n",
       "    <tr style=\"text-align: right;\">\n",
       "      <th></th>\n",
       "      <th>customerNumber</th>\n",
       "      <th>checkNumber</th>\n",
       "      <th>paymentDate</th>\n",
       "      <th>amount</th>\n",
       "    </tr>\n",
       "  </thead>\n",
       "  <tbody>\n",
       "  </tbody>\n",
       "</table>\n",
       "</div>"
      ],
      "text/plain": [
       "Empty DataFrame\n",
       "Columns: [customerNumber, checkNumber, paymentDate, amount]\n",
       "Index: []"
      ]
     },
     "execution_count": 18,
     "metadata": {},
     "output_type": "execute_result"
    }
   ],
   "source": [
    "# Veamos los primeros registros de los datos\n",
    "df_payments.head()"
   ]
  },
  {
   "cell_type": "code",
   "execution_count": 19,
   "metadata": {},
   "outputs": [
    {
     "name": "stdout",
     "output_type": "stream",
     "text": [
      "La cantidad de registros obtenidos es: 0\n"
     ]
    }
   ],
   "source": [
    "print(f\"La cantidad de registros obtenidos es: {df_payments.shape[0]}\")"
   ]
  },
  {
   "cell_type": "code",
   "execution_count": 21,
   "metadata": {},
   "outputs": [
    {
     "name": "stdout",
     "output_type": "stream",
     "text": [
      "La cantidad de registros obtenidos es: 3\n"
     ]
    },
    {
     "data": {
      "text/html": [
       "<div>\n",
       "<style scoped>\n",
       "    .dataframe tbody tr th:only-of-type {\n",
       "        vertical-align: middle;\n",
       "    }\n",
       "\n",
       "    .dataframe tbody tr th {\n",
       "        vertical-align: top;\n",
       "    }\n",
       "\n",
       "    .dataframe thead th {\n",
       "        text-align: right;\n",
       "    }\n",
       "</style>\n",
       "<table border=\"1\" class=\"dataframe\">\n",
       "  <thead>\n",
       "    <tr style=\"text-align: right;\">\n",
       "      <th></th>\n",
       "      <th>customerNumber</th>\n",
       "      <th>checkNumber</th>\n",
       "      <th>paymentDate</th>\n",
       "      <th>amount</th>\n",
       "    </tr>\n",
       "  </thead>\n",
       "  <tbody>\n",
       "    <tr>\n",
       "      <th>0</th>\n",
       "      <td>1</td>\n",
       "      <td>3001</td>\n",
       "      <td>2023-07-26</td>\n",
       "      <td>10000.5</td>\n",
       "    </tr>\n",
       "    <tr>\n",
       "      <th>1</th>\n",
       "      <td>2</td>\n",
       "      <td>3002</td>\n",
       "      <td>2023-07-26</td>\n",
       "      <td>7500.2</td>\n",
       "    </tr>\n",
       "    <tr>\n",
       "      <th>2</th>\n",
       "      <td>3</td>\n",
       "      <td>3003</td>\n",
       "      <td>2023-07-26</td>\n",
       "      <td>5075.0</td>\n",
       "    </tr>\n",
       "  </tbody>\n",
       "</table>\n",
       "</div>"
      ],
      "text/plain": [
       "   customerNumber checkNumber paymentDate   amount\n",
       "0               1        3001  2023-07-26  10000.5\n",
       "1               2        3002  2023-07-26   7500.2\n",
       "2               3        3003  2023-07-26   5075.0"
      ]
     },
     "execution_count": 21,
     "metadata": {},
     "output_type": "execute_result"
    }
   ],
   "source": [
    "# Vamos a ejecutar otra vez la extracción incremental\n",
    "# solo para demostrar que no se obtendrán datos nuevos\n",
    "\n",
    "df_customers = extract_incremental_data(\n",
    "    engine, 'payments', 'metadata/metadata_ingestion.json'\n",
    "    )\n",
    "print(f\"La cantidad de registros obtenidos es: {df_customers.shape[0]}\")\n",
    "\n",
    "df_customers.head()"
   ]
  }
 ],
 "metadata": {
  "kernelspec": {
   "display_name": "venv",
   "language": "python",
   "name": "python3"
  },
  "language_info": {
   "codemirror_mode": {
    "name": "ipython",
    "version": 3
   },
   "file_extension": ".py",
   "mimetype": "text/x-python",
   "name": "python",
   "nbconvert_exporter": "python",
   "pygments_lexer": "ipython3",
   "version": "3.13.1"
  }
 },
 "nbformat": 4,
 "nbformat_minor": 2
}
